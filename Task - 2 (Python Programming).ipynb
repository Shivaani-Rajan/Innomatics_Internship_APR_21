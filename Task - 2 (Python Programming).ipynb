{
 "cells": [
  {
   "cell_type": "raw",
   "metadata": {},
   "source": [
    "Print a list of all possible coordinates given by x,y,z on a 3D grid where the sum of is not equal to n."
   ]
  },
  {
   "cell_type": "code",
   "execution_count": 4,
   "metadata": {},
   "outputs": [
    {
     "name": "stdout",
     "output_type": "stream",
     "text": [
      "enter a value: 1\n",
      "enter a value: 1\n",
      "enter a value: 1\n",
      "enter a value for n: 2\n",
      "[[0, 0, 0], [0, 0, 1], [0, 1, 0], [1, 0, 0], [1, 1, 1]]\n"
     ]
    }
   ],
   "source": [
    "x,y,z = int(input('enter a value: ')),int(input('enter a value: ')),int(input('enter a value: '))\n",
    "n = int(input('enter a value for n: '))\n",
    "coordinates = [ [i,j,k] for i in range(x+1) for j in range(y+1) for k in range(z+1) if i+j+k != n]\n",
    "print(coordinates)"
   ]
  },
  {
   "cell_type": "raw",
   "metadata": {},
   "source": [
    "Given an integer n and n space-separated integers as input, create a tuple t of those n integers. \n",
    "Then compute and print the result of hash(t)"
   ]
  },
  {
   "cell_type": "code",
   "execution_count": 160,
   "metadata": {},
   "outputs": [
    {
     "name": "stdout",
     "output_type": "stream",
     "text": [
      "2\n",
      "1 2\n",
      "-3550055125485641917\n"
     ]
    }
   ],
   "source": [
    "n = int(input())\n",
    "integer_list = tuple(map(int, input().split()))\n",
    "print(hash(tuple(integer_list)))"
   ]
  },
  {
   "cell_type": "raw",
   "metadata": {},
   "source": [
    "Ms. Gabriel Williams is a botany professor at District College. One day, she asked her student Mickey \n",
    "to compute the average of all the plants with distinct heights in her greenhouse."
   ]
  },
  {
   "cell_type": "code",
   "execution_count": 40,
   "metadata": {},
   "outputs": [
    {
     "name": "stdout",
     "output_type": "stream",
     "text": [
      "enter the size of array: 3\n",
      "enter the n space seperated integers: 2 3 4\n",
      "3.0\n"
     ]
    }
   ],
   "source": [
    "n = int(input('enter the size of array: '))\n",
    "a = set(map(int,input('enter the n space seperated integers: ').split()))\n",
    "avg = (sum(a)/n)\n",
    "print(round(avg,3))"
   ]
  },
  {
   "cell_type": "raw",
   "metadata": {},
   "source": [
    "Output the symmetric difference integers in ascending order, one per line."
   ]
  },
  {
   "cell_type": "code",
   "execution_count": 54,
   "metadata": {},
   "outputs": [
    {
     "name": "stdout",
     "output_type": "stream",
     "text": [
      "enter the length of the set: 2\n",
      "enter the elements: 2 3\n",
      "enter the length of the set: 3\n",
      "enter the elements: 3 4 5\n",
      "2\n",
      "4\n",
      "5\n"
     ]
    }
   ],
   "source": [
    "n1,a=input('enter the length of the set: '),set(map(int,input('enter the elements: ').split()))\n",
    "n2,b=input('enter the length of the set: '),set(map(int,input('enter the elements: ').split()))\n",
    "print(*sorted(a^b),sep ='\\n')"
   ]
  },
  {
   "cell_type": "code",
   "execution_count": 76,
   "metadata": {},
   "outputs": [
    {
     "name": "stdout",
     "output_type": "stream",
     "text": [
      "enter the length of the set: 3\n",
      "enter the elements: hello\n",
      "enter the elements: hi\n",
      "enter the elements: hello\n",
      "['hello', 'hi', 'hello']\n",
      "2\n"
     ]
    }
   ],
   "source": [
    "n = int(input('enter the length of the set: '))\n",
    "l = [input('enter the elements: ') for i in range(n)]\n",
    "s=set()\n",
    "for i in l:\n",
    "    if i not in s:\n",
    "        s.add(i)\n",
    "print(len(s))"
   ]
  },
  {
   "cell_type": "raw",
   "metadata": {},
   "source": [
    "You have a non-empty set s, and you have to execute n commands given in n lines.\n",
    "The commands will be pop, remove and discard."
   ]
  },
  {
   "cell_type": "code",
   "execution_count": 79,
   "metadata": {},
   "outputs": [
    {
     "name": "stdout",
     "output_type": "stream",
     "text": [
      "enter the number of elements: 9\n",
      "enter the elements: 1 2 3 4 5 6 7 8 9\n",
      "enter the number of commands: 10\n",
      "enter the commands: pop\n",
      "enter the commands: remove 9\n",
      "enter the commands: discard 9\n",
      "enter the commands: remove 7\n",
      "enter the commands: pop\n",
      "enter the commands: discard 6\n",
      "enter the commands: remove 5\n",
      "enter the commands: pop\n",
      "enter the commands: discard 5\n",
      "enter the commands: pop\n",
      "{8}\n",
      "sum: 8\n"
     ]
    }
   ],
   "source": [
    "n = int(input('enter the number of elements: '))\n",
    "s = set(map(int, input('enter the elements: ').split()))\n",
    "ins = int(input('enter the number of commands: '))\n",
    "for i in range(ins):\n",
    "    a = input('enter the commands: ').split()\n",
    "    if a[0] == 'discard':\n",
    "        s.discard(int(a[1]))\n",
    "    elif a[0] == 'pop':\n",
    "        s.pop()\n",
    "    elif a[0] == 'remove' and int(a[1]) in s:\n",
    "        s.remove(int(a[1]))\n",
    "print(s)\n",
    "print('sum:',sum(s))\n"
   ]
  },
  {
   "cell_type": "raw",
   "metadata": {},
   "source": [
    "The students of District College have subscriptions to English and French newspapers. \n",
    "Some students have subscribed only to English, some have subscribed to only French and some have subscribed to both newspapers.\n",
    "You are given two sets of student roll numbers. \n",
    "One set has subscribed to the English newspaper, and the other set is subscribed to the French newspaper. \n",
    "The same student could be in both sets. \n",
    "Your task is to find the total number of students who have subscribed to at least one newspaper."
   ]
  },
  {
   "cell_type": "code",
   "execution_count": 174,
   "metadata": {},
   "outputs": [
    {
     "name": "stdout",
     "output_type": "stream",
     "text": [
      "enter the number of elements: 9\n",
      "students who have subscribed to English newspaper: 1 2 3 4 5 6 7 8 9\n",
      "enter the number of elements: 9\n",
      "students who have subscribed to French newspaper:  10 1 2 3 11 21 55 6 8\n",
      "the total number of students who have subscribed to at least one newspaper:  13\n"
     ]
    }
   ],
   "source": [
    "n1,s1 = int(input('enter the number of elements: ')),set(map(int,input('students who have subscribed to English newspaper: ').split()))\n",
    "n2,s2 = int(input('enter the number of elements: ')),set(map(int,input('students who have subscribed to French newspaper:  ').split()))\n",
    "union = s1.union(s2)\n",
    "print('the total number of students who have subscribed to at least one newspaper: ',len(union))"
   ]
  },
  {
   "cell_type": "raw",
   "metadata": {},
   "source": [
    "The students of District College have subscriptions to English and French newspapers. Some students have subscribed only to English, some have subscribed only to French, and some have subscribed to both newspapers.\n",
    "You are given two sets of student roll numbers. One set has subscribed to the English newspaper, one set has subscribed to the French newspaper. Your task is to find the total number of students who have subscribed to both newspapers."
   ]
  },
  {
   "cell_type": "code",
   "execution_count": 175,
   "metadata": {},
   "outputs": [
    {
     "name": "stdout",
     "output_type": "stream",
     "text": [
      "enter the number of elements: 9\n",
      "students who have subscribed to English newspaper: 1 2 3 4 5 6 7 8 9\n",
      "enter the number of elements: 9\n",
      "students who have subscribed to French newspaper:  10 1 2 3 11 21 55 6 8\n",
      "the total number of students who have subscribed to both newspapers:  5\n"
     ]
    }
   ],
   "source": [
    "n1,s1 = int(input('enter the number of elements: ')),set(map(int,input('students who have subscribed to English newspaper: ').split()))\n",
    "n2,s2 = int(input('enter the number of elements: ')),set(map(int,input('students who have subscribed to French newspaper:  ').split()))\n",
    "intersection = s1.intersection(s2)\n",
    "print('the total number of students who have subscribed to both newspapers: ',len(intersection))"
   ]
  },
  {
   "cell_type": "raw",
   "metadata": {},
   "source": [
    "Students of District College have a subscription to English and French newspapers. Some students have subscribed to only the English newspaper, some have subscribed to only the French newspaper, and some have subscribed to both newspapers.\n",
    "You are given two sets of student roll numbers. One set has subscribed to the English newspaper, and one set has subscribed to the French newspaper. Your task is to find the total number of students who have subscribed to only English newspapers."
   ]
  },
  {
   "cell_type": "code",
   "execution_count": 176,
   "metadata": {},
   "outputs": [
    {
     "name": "stdout",
     "output_type": "stream",
     "text": [
      "enter the number of elements: 9\n",
      "students who have subscribed to English newspaper: 1 2 3 4 5 6 7 8 9\n",
      "enter the number of elements: 9\n",
      "students who have subscribed to French newspaper:  10 1 2 3 11 21 55 6 8\n",
      "the total number of students who have subscribed to only English newspapers:  4\n"
     ]
    }
   ],
   "source": [
    "n1,s1 = int(input('enter the number of elements: ')),set(map(int,input('students who have subscribed to English newspaper: ').split()))\n",
    "n2,s2 = int(input('enter the number of elements: ')),set(map(int,input('students who have subscribed to French newspaper:  ').split()))\n",
    "diff = s1.difference(s2)\n",
    "print('the total number of students who have subscribed to only English newspapers: ',len(diff))"
   ]
  },
  {
   "cell_type": "raw",
   "metadata": {},
   "source": [
    "Students of District College have subscriptions to English and French newspapers. Some students have subscribed to English only, some have subscribed to French only, and some have subscribed to both newspapers.\n",
    "You are given two sets of student roll numbers. One set has subscribed to the English newspaper, and one set has subscribed to the French newspaper. Your task is to find the total number of students who have subscribed to either the English or the French newspaper but not both."
   ]
  },
  {
   "cell_type": "code",
   "execution_count": 177,
   "metadata": {},
   "outputs": [
    {
     "name": "stdout",
     "output_type": "stream",
     "text": [
      "enter the number of elements: 9\n",
      "students who have subscribed to English newspaper: 1 2 3 4 5 6 7 8 9\n",
      "enter the number of elements: 9\n",
      "students who have subscribed to French newspaper:  10 1 2 3 11 21 55 6 8\n",
      "8\n"
     ]
    }
   ],
   "source": [
    "n1,s1 = int(input('enter the number of elements: ')),set(map(int,input('students who have subscribed to English newspaper: ').split()))\n",
    "n2,s2 = int(input('enter the number of elements: ')),set(map(int,input('students who have subscribed to French newspaper:  ').split()))\n",
    "diff = s1^(s2)\n",
    "print(len(diff))"
   ]
  },
  {
   "cell_type": "raw",
   "metadata": {},
   "source": [
    "You are given a set s1 and n number of other sets. These n number of sets have to perform some specific mutation operations on set .\n",
    "Your task is to execute those operations and print the sum of elements from set s1 ."
   ]
  },
  {
   "cell_type": "code",
   "execution_count": 85,
   "metadata": {},
   "outputs": [
    {
     "name": "stdout",
     "output_type": "stream",
     "text": [
      "enter the length of the set: 16\n",
      "enter the elememts: 1 2 3 4 5 6 7 8 9 10 11 12 13 14 24 52\n",
      "enter the number of instructions: 4\n",
      "enter the command and length of the set: intersection_update 10\n",
      "enter the elements: 2 3 5 6 8 9 1 4 7 11\n",
      "enter the command and length of the set: update 2\n",
      "enter the elements: 55 66\n",
      "enter the command and length of the set: symmetric_difference_update 5\n",
      "enter the elements: 22 7 35 62 58\n",
      "enter the command and length of the set: difference_update 7\n",
      "enter the elements: 11 22 35 55 58 62 66\n",
      "38\n"
     ]
    }
   ],
   "source": [
    "n,s1 = int(input('enter the length of the set: ')),set(map(int,input('enter the elememts: ').split()))\n",
    "m = int(input('enter the number of instructions: '))\n",
    "for i in range(m):\n",
    "    ins = input('enter the command and length of the set: ').split()\n",
    "    com,l = ins[0],ins[1]\n",
    "    a = set(map(int,input('enter the elements: ').split()))\n",
    "    if com == 'intersection_update':\n",
    "        s1.intersection_update(a)\n",
    "    elif com == 'difference_update':\n",
    "        s1.difference_update(a)\n",
    "    elif com == 'symmetric_difference_update':\n",
    "        s1.symmetric_difference_update(a)\n",
    "    else:\n",
    "        s1.update(a)\n",
    "print(sum(s1))"
   ]
  },
  {
   "cell_type": "raw",
   "metadata": {},
   "source": [
    "You are given two sets, s1 and s2.\n",
    "Your job is to find whether set s1 is a subset of set s2.\n",
    "If set s1 is subset of set s2, print True.\n",
    "If set s1  is not a subset of set s2 , print False"
   ]
  },
  {
   "cell_type": "code",
   "execution_count": 86,
   "metadata": {},
   "outputs": [
    {
     "name": "stdout",
     "output_type": "stream",
     "text": [
      "enter the number of test cases: 3\n",
      "number of elements: 5\n",
      "enter the elements:1 2 3 5 6\n",
      "number of elements: 9\n",
      "enter the elements:9 8 5 6 3 2 1 4 7\n",
      "True\n",
      "number of elements: 1\n",
      "enter the elements:2\n",
      "number of elements: 5\n",
      "enter the elements:3 6 5 4 1\n",
      "False\n",
      "number of elements: 7\n",
      "enter the elements:1 2 3 5 6 8 9\n",
      "number of elements: 3\n",
      "enter the elements:9 8 2\n",
      "False\n"
     ]
    }
   ],
   "source": [
    "n = int(input('enter the number of test cases: '))\n",
    "for i in range(n):\n",
    "    n1,s1 = int(input('number of elements: ')),set(map(int,input('enter the elements:').split()))\n",
    "    n2,s2 = int(input('number of elements: ')),set(map(int,input('enter the elements:').split()))\n",
    "    print(s1.issubset(s2))"
   ]
  },
  {
   "cell_type": "raw",
   "metadata": {},
   "source": [
    "You are given a set S and n other sets.\n",
    "Your job is to find whether set s1  is a strict superset of each of the n sets.\n",
    "\n",
    "Print True, if S is a strict superset of each of the n sets. Otherwise, print False.\n",
    "\n",
    "A strict superset has at least one element that does not exist in its subset."
   ]
  },
  {
   "cell_type": "code",
   "execution_count": 88,
   "metadata": {},
   "outputs": [
    {
     "name": "stdout",
     "output_type": "stream",
     "text": [
      "enter the elements: 1 2 3 4 5 6 7 8 9 10 11 12 23 45 84 78\n",
      "enter the number of sets: 2\n",
      "enter the elements: 1 2 3 4 5\n",
      "enter the elements: 100 11 12\n",
      "False\n"
     ]
    }
   ],
   "source": [
    "s1 = set(map(int,input('enter the elements: ').split()))\n",
    "n = int(input('enter the number of sets: '))\n",
    "for i in range(n):\n",
    "    s2 = set(map(int,input('enter the elements: ').split()))\n",
    "    if s1.issuperset(s2):\n",
    "        continue\n",
    "    else:\n",
    "        print (False)\n",
    "        break\n",
    "else:\n",
    "    print(True)"
   ]
  },
  {
   "cell_type": "raw",
   "metadata": {},
   "source": [
    "Mr. Anant Asankhya is the manager at the INFINITE hotel. The hotel has an infinite amount of rooms.\n",
    "\n",
    "One fine day, a finite number of tourists come to stay at the hotel.\n",
    "The tourists consist of:\n",
    "→ A Captain.\n",
    "→ An unknown group of families consisting of  members per group where k ≠ 1.\n",
    "\n",
    "The Captain was given a separate room, and the rest were given one room per group.\n",
    "\n",
    "Mr. Anant has an unordered list of randomly arranged room entries. The list consists of the room numbers for all of the tourists. The room numbers will appear  times per group except for the Captain's room.\n",
    "\n",
    "Mr. Anant needs you to help him find the Captain's room number.\n",
    "The total number of tourists or the total number of groups of families is not known to you.\n",
    "You only know the value of  and the room number list."
   ]
  },
  {
   "cell_type": "code",
   "execution_count": 115,
   "metadata": {},
   "outputs": [
    {
     "name": "stdout",
     "output_type": "stream",
     "text": [
      "enter the number of groups: 5\n",
      "enter the room numbers: 1 2 3 6 5 4 4 2 5 3 6 1 6 5 3 2 4 1 2 5 1 4 3 6 8 4 3 1 5 6 2 \n",
      "8\n"
     ]
    }
   ],
   "source": [
    "n = int(input('enter the number of groups: '))\n",
    "room_numbers = list(map(int,input('enter the room numbers: ').split()))\n",
    "room_numbers.sort()\n",
    "s1,s2 = set(room_numbers[::2]),set(room_numbers[1::2])\n",
    "print(*s1^s2)"
   ]
  },
  {
   "cell_type": "raw",
   "metadata": {},
   "source": [
    "Initialize your list and read in the value of  followed by  lines of commands where each command will be of the 7 types. Iterate through each command in order and perform the corresponding operation on your list."
   ]
  },
  {
   "cell_type": "code",
   "execution_count": 123,
   "metadata": {},
   "outputs": [
    {
     "name": "stdout",
     "output_type": "stream",
     "text": [
      "12\n",
      "insert 0 5\n",
      "insert 1 10\n",
      "insert 0 6\n",
      "print\n",
      "[6, 5, 10]\n",
      "remove 6\n",
      "append 9\n",
      "append 1\n",
      "sort\n",
      "print\n",
      "[1, 5, 9, 10]\n",
      "pop\n",
      "reverse\n",
      "print\n",
      "[9, 5, 1]\n"
     ]
    }
   ],
   "source": [
    "N = int(input())\n",
    "l = []\n",
    "for i in range(N):\n",
    "    a = input('').split()\n",
    "    if a[0] == 'insert':\n",
    "        l.insert(int(a[1]),int(a[2]))\n",
    "    elif a[0] == 'append':\n",
    "        l.append(int(a[1]))\n",
    "    elif a[0] == 'remove' and int(a[1]) in l:\n",
    "        l.remove(int(a[1]))\n",
    "    elif a[0] == 'sort':\n",
    "        l.sort()\n",
    "    elif a[0] == 'pop':\n",
    "        l.pop()\n",
    "    elif a[0] == 'reverse':\n",
    "        l.reverse()\n",
    "    else:\n",
    "        print(l)"
   ]
  },
  {
   "cell_type": "raw",
   "metadata": {},
   "source": [
    "Given the names and grades for each student in a class of  students, store them in a nested list and print the name(s) of any student(s) having the second lowest grade.\n",
    "\n",
    "Note: If there are multiple students with the second lowest grade, order their names alphabetically and print each name on a new line."
   ]
  },
  {
   "cell_type": "code",
   "execution_count": 171,
   "metadata": {},
   "outputs": [
    {
     "name": "stdout",
     "output_type": "stream",
     "text": [
      "5\n",
      "Harry\n",
      "37.21\n",
      "Berry\n",
      "37.21\n",
      "Tina\n",
      "37.2\n",
      "Akriti\n",
      "41\n",
      "Harsh\n",
      "39\n",
      "Berry\n",
      "Harry\n"
     ]
    }
   ],
   "source": [
    "l = []\n",
    "for i in range(int(input())):\n",
    "    name,score = input(),float(input())\n",
    "    l.append([name,score])\n",
    "min_score = sorted([j for i,j in l])[1]\n",
    "min_scorer = [i for i,j in sorted(l) if j == min_score]\n",
    "print(*min_scorer,sep='\\n')"
   ]
  },
  {
   "cell_type": "raw",
   "metadata": {},
   "source": [
    "In a dictionary containing key/value pairs of name:[marks] for a list of students Print the average of the marks array for the student name provided, showing 2 places after the decimal."
   ]
  },
  {
   "cell_type": "code",
   "execution_count": 157,
   "metadata": {},
   "outputs": [
    {
     "name": "stdout",
     "output_type": "stream",
     "text": [
      "3\n",
      "Krishna 67 68 6\n",
      "Arjun 70 98 63\n",
      "Malika 52 56 60\n",
      "Malika\n",
      "56.00\n"
     ]
    }
   ],
   "source": [
    "n = int(input())\n",
    "student_marks = {}\n",
    "for i in range(n):\n",
    "    name,*score = input().split()\n",
    "    scores = list(map(float,score))\n",
    "    student_marks[name] = scores\n",
    "student = input()\n",
    "s = student_marks[student]\n",
    "avg = (sum(s))/len(s)\n",
    "print('%.2f'%(avg))"
   ]
  },
  {
   "cell_type": "raw",
   "metadata": {},
   "source": [
    "Given the participants' score sheet for your University Sports Day, you are required to find the runner-up score. You are given  scores. Store them in a list and find the score of the runner-up."
   ]
  },
  {
   "cell_type": "code",
   "execution_count": 159,
   "metadata": {},
   "outputs": [
    {
     "name": "stdout",
     "output_type": "stream",
     "text": [
      "5\n",
      "2 3 6 6 5\n",
      "5\n"
     ]
    }
   ],
   "source": [
    "n = int(input())\n",
    "l = list(map(int, input().split()))\n",
    "max_no = max(l)\n",
    "while max(l) == max_no:\n",
    "    l.remove(max_no)\n",
    "else:\n",
    "    print(max(l))"
   ]
  }
 ],
 "metadata": {
  "kernelspec": {
   "display_name": "Python 3",
   "language": "python",
   "name": "python3"
  },
  "language_info": {
   "codemirror_mode": {
    "name": "ipython",
    "version": 3
   },
   "file_extension": ".py",
   "mimetype": "text/x-python",
   "name": "python",
   "nbconvert_exporter": "python",
   "pygments_lexer": "ipython3",
   "version": "3.8.5"
  }
 },
 "nbformat": 4,
 "nbformat_minor": 4
}
