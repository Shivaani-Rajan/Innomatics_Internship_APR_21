{
 "cells": [
  {
   "cell_type": "code",
   "execution_count": 5,
   "metadata": {},
   "outputs": [
    {
     "name": "stdout",
     "output_type": "stream",
     "text": [
      "Hello, World!\n"
     ]
    }
   ],
   "source": [
    "# print Hello, World! on your screen.\n",
    "print('Hello, World!')"
   ]
  },
  {
   "cell_type": "code",
   "execution_count": 10,
   "metadata": {},
   "outputs": [
    {
     "name": "stdout",
     "output_type": "stream",
     "text": [
      "enter the first integer: 5\n",
      "enter the second integer: 3\n",
      "8\n",
      "2\n",
      "15\n"
     ]
    }
   ],
   "source": [
    "# Two integers a and b\n",
    "# The first line contains the sum of the two numbers.\n",
    "# The second line contains the difference of the two numbers (first - second).\n",
    "# The third line contains the product of the two numbers.\n",
    "\n",
    "a = int(input('enter the first integer: '))\n",
    "b = int(input('enter the second integer: '))\n",
    "print(a+b,a-b,a*b,sep='\\n')"
   ]
  },
  {
   "cell_type": "code",
   "execution_count": 12,
   "metadata": {},
   "outputs": [
    {
     "name": "stdout",
     "output_type": "stream",
     "text": [
      "enter the first integer: 13\n",
      "enter the second integer: 2\n",
      "6\n",
      "6.5\n"
     ]
    }
   ],
   "source": [
    "# The first line should contain the result of integer division\n",
    "# The second line should contain the result of float division\n",
    "\n",
    "a = int(input('enter the first integer: '))\n",
    "b = int(input('enter the second integer: '))\n",
    "print(a//b,a/b,sep='\\n')"
   ]
  },
  {
   "cell_type": "code",
   "execution_count": 13,
   "metadata": {},
   "outputs": [
    {
     "name": "stdout",
     "output_type": "stream",
     "text": [
      "Enter a number: 4\n",
      "1\n",
      "4\n",
      "9\n",
      "16\n"
     ]
    }
   ],
   "source": [
    "# Print the square of each non-negative number on a separate line.\n",
    "\n",
    "n = int(input('Enter a number: '))\n",
    "for i in range(1,n+1):\n",
    "    print(i**2)"
   ]
  },
  {
   "cell_type": "code",
   "execution_count": 15,
   "metadata": {},
   "outputs": [
    {
     "name": "stdout",
     "output_type": "stream",
     "text": [
      "Enter a number: 12\n",
      "Weird\n"
     ]
    }
   ],
   "source": [
    "# Given an integer, , perform the following conditional actions:\n",
    "\n",
    "# If  is odd, print Weird\n",
    "# If  is even and in the inclusive range of  to , print Not Weird\n",
    "# If  is even and in the inclusive range of  to , print Weird\n",
    "# If  is even and greater than , print Not Weird\n",
    "\n",
    "n = int(input('Enter a number: '))\n",
    "if n %2 != 0 :\n",
    "    print('Weird')\n",
    "elif n % 2 ==0:\n",
    "    if n >=2 and n<=5:\n",
    "        print('Not Weird')\n",
    "    elif n >=6 and n <=20:\n",
    "            print('Weird')\n",
    "    else:\n",
    "        print('Not Weird')"
   ]
  },
  {
   "cell_type": "code",
   "execution_count": 4,
   "metadata": {},
   "outputs": [
    {
     "name": "stdout",
     "output_type": "stream",
     "text": [
      "enter a number: 5\n",
      "12345"
     ]
    }
   ],
   "source": [
    "# Print the list of integers from  through  as a string, without spaces.\n",
    "n = int(input('enter a number: '))\n",
    "for i in range(1,n+1):\n",
    "    print(i,end='')"
   ]
  },
  {
   "cell_type": "code",
   "execution_count": 3,
   "metadata": {},
   "outputs": [
    {
     "name": "stdout",
     "output_type": "stream",
     "text": [
      "enter a year: 2004\n",
      "True\n"
     ]
    }
   ],
   "source": [
    "# Leap year or not\n",
    "def is_leap(year):\n",
    "    leap = False\n",
    "    if (year % 4 == 0) and (year % 100 != 0) or (year %400 == 0) :\n",
    "        leap = True\n",
    "        return leap\n",
    "    else:\n",
    "        return leap\n",
    "\n",
    "year = int(input('enter a year: '))    \n",
    "print(is_leap(year))"
   ]
  }
 ],
 "metadata": {
  "kernelspec": {
   "display_name": "Python 3",
   "language": "python",
   "name": "python3"
  },
  "language_info": {
   "codemirror_mode": {
    "name": "ipython",
    "version": 3
   },
   "file_extension": ".py",
   "mimetype": "text/x-python",
   "name": "python",
   "nbconvert_exporter": "python",
   "pygments_lexer": "ipython3",
   "version": "3.8.5"
  }
 },
 "nbformat": 4,
 "nbformat_minor": 4
}
